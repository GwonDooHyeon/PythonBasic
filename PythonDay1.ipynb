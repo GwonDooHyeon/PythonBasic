{
  "nbformat": 4,
  "nbformat_minor": 0,
  "metadata": {
    "colab": {
      "provenance": [],
      "toc_visible": true,
      "authorship_tag": "ABX9TyNWGISuKOKyAgAnvlx3Xfdz",
      "include_colab_link": true
    },
    "kernelspec": {
      "name": "python3",
      "display_name": "Python 3"
    },
    "language_info": {
      "name": "python"
    }
  },
  "cells": [
    {
      "cell_type": "markdown",
      "metadata": {
        "id": "view-in-github",
        "colab_type": "text"
      },
      "source": [
        "<a href=\"https://colab.research.google.com/github/GwonDooHyeon/PythonBasic/blob/main/PythonDay1.ipynb\" target=\"_parent\"><img src=\"https://colab.research.google.com/assets/colab-badge.svg\" alt=\"Open In Colab\"/></a>"
      ]
    },
    {
      "cell_type": "code",
      "source": [
        "#인덱싱과 슬라이싱 indexing & slicing\n",
        "\n",
        "# 인덱싱 - 한개의 글자 추출\n",
        "a = 'i love You'\n",
        "print(a[0])\n",
        "print(a[9])\n",
        "print(a[-1]) # 마지막 글자 추출은 -1을 사용.\n",
        "\n",
        "# 슬라이싱\n",
        "a = 'i love You'\n",
        "print(a[2] + a[3] + a[4] + a[5])\n",
        "print(a[2:6]) #slicing 끝자리는 미만을 의미한다.\n",
        "print(a[7:]) # 끝자리를 생략하면 끝까지 출력\n",
        "print(a[:3]) # 시작 자리를 생략하면 0부터 시작\n",
        "print(a[:]) # 모든 자리 생략하면 처음부터 끝가지 출력\n",
        "print(a[7:-1]) # 끝자리미만까지"
      ],
      "metadata": {
        "colab": {
          "base_uri": "https://localhost:8080/"
        },
        "id": "0mFprjxW09Fp",
        "outputId": "f1262fb3-9c9a-46f5-b49a-43309478cb61"
      },
      "execution_count": null,
      "outputs": [
        {
          "output_type": "stream",
          "name": "stdout",
          "text": [
            "i\n",
            "u\n",
            "u\n",
            "love\n",
            "love\n",
            "You\n",
            "i l\n",
            "i love You\n",
            "Yo\n"
          ]
        }
      ]
    },
    {
      "cell_type": "code",
      "source": [
        "#파이썬에서 출력 방법 총 4가지\n",
        "\n",
        "# 1 문자열 포맷팅 (중요도 하)\n",
        "print(\"i %s you\" % \"love\")\n",
        "print(\"i ate %d apples\" % 7 )\n",
        "\n",
        "print(\"i %s you, i ate %s apples\" % (\"love\", 5))\n",
        "\n",
        "#2 format() 포맷 함수 (중요도 하)\n",
        "print(\"i {} you\".format(\"love\"))\n",
        "print(\"i ate {} apples\".format(5))\n",
        "\n",
        "print(\"i {} you, i ate {} apples\".format(\"love\", 7))"
      ],
      "metadata": {
        "colab": {
          "base_uri": "https://localhost:8080/"
        },
        "id": "HV5TKiG178nl",
        "outputId": "c0087477-0b4e-4cc2-b1fd-81613296a4ac"
      },
      "execution_count": 31,
      "outputs": [
        {
          "output_type": "stream",
          "name": "stdout",
          "text": [
            "i love you\n",
            "i ate 7 apples\n",
            "i love you, i ate 5 apples\n",
            "i love you\n",
            "i ate 5 apples\n",
            "i love you, i ate 7 apples\n"
          ]
        }
      ]
    },
    {
      "cell_type": "code",
      "source": [
        "# 3 f스트링 (중요도 상)\n",
        "\n",
        "a = \"love\"\n",
        "b = 7\n",
        "\n",
        "print(f\"i {a} you\")\n",
        "print(f\"i ate {b} apples\")\n",
        "\n",
        "print(f\"i {a} you, i ate {b} apples\")\n",
        "\n",
        "#4 연산자 사용\n",
        "\n",
        "a = \"love\"\n",
        "b = 7\n",
        "\n",
        "print(\"i \" + a + \" you\")\n",
        "print(\"i ate\" , b , \"apples\")\n",
        "\n",
        "print(\"i \" + a + \" you, i ate\" ,b, \"apples\")"
      ],
      "metadata": {
        "colab": {
          "base_uri": "https://localhost:8080/"
        },
        "id": "E782hgDy9yR-",
        "outputId": "f2fd4c45-f43e-4cd4-b493-48791f1fb0c8"
      },
      "execution_count": 38,
      "outputs": [
        {
          "output_type": "stream",
          "name": "stdout",
          "text": [
            "i love you\n",
            "i ate 7 apples\n",
            "i love you, i ate 7 apples\n",
            "i love you\n",
            "i ate 7 apples\n",
            "i love you, i ate 7 apples\n"
          ]
        }
      ]
    },
    {
      "cell_type": "code",
      "source": [
        "# 문자열 관련 자주 사용하는 함수 정리\n",
        "\n",
        "# len 문자열의 갯수 확인\n",
        "print(len(\"i love you\"))"
      ],
      "metadata": {
        "colab": {
          "base_uri": "https://localhost:8080/"
        },
        "id": "b7wlD5GXA8kk",
        "outputId": "e18045e5-789d-4983-ae81-0730d89dcea8"
      },
      "execution_count": 39,
      "outputs": [
        {
          "output_type": "stream",
          "name": "stdout",
          "text": [
            "10\n"
          ]
        }
      ]
    }
  ]
}