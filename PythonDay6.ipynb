{
  "nbformat": 4,
  "nbformat_minor": 0,
  "metadata": {
    "colab": {
      "provenance": [],
      "authorship_tag": "ABX9TyPnSQXay+uePgPhzN9hfnhy",
      "include_colab_link": true
    },
    "kernelspec": {
      "name": "python3",
      "display_name": "Python 3"
    },
    "language_info": {
      "name": "python"
    }
  },
  "cells": [
    {
      "cell_type": "markdown",
      "metadata": {
        "id": "view-in-github",
        "colab_type": "text"
      },
      "source": [
        "<a href=\"https://colab.research.google.com/github/GwonDooHyeon/PythonBasic/blob/main/PythonDay6.ipynb\" target=\"_parent\"><img src=\"https://colab.research.google.com/assets/colab-badge.svg\" alt=\"Open In Colab\"/></a>"
      ]
    },
    {
      "cell_type": "code",
      "execution_count": null,
      "metadata": {
        "colab": {
          "base_uri": "https://localhost:8080/"
        },
        "id": "XD83Qm1dijgk",
        "outputId": "edee72f8-18e8-485d-82f2-3bcbce775840"
      },
      "outputs": [
        {
          "output_type": "execute_result",
          "data": {
            "text/plain": [
              "5"
            ]
          },
          "metadata": {},
          "execution_count": 3
        }
      ],
      "source": [
        "#inheritence 상속\n",
        "class BigCal:\n",
        "\n",
        "  def __init__(self, first, second):\n",
        "    self.first = first\n",
        "    self.second = second\n",
        "    \n",
        "  def add(self):\n",
        "    result = self.first + self.second\n",
        "    return result\n",
        "\n",
        "  def sub(self):\n",
        "    result = self.first - self.second\n",
        "    return result\n",
        "\n",
        "  def mul(self):\n",
        "    result = self.first * self.second\n",
        "    return result\n",
        "\n",
        "  def div(self):\n",
        "    result = self.first / self.second\n",
        "    return result\n",
        "\n",
        "class SmallCal(BigCal):\n",
        "  pass\n",
        "\n",
        "sc1 = SmallCal(3, 2)\n",
        "sc1.add()\n"
      ]
    },
    {
      "cell_type": "code",
      "source": [
        "class MidCal(BigCal):\n",
        "  def pow(self):  # 기존 BigCal 에는 사칙연산만 있었는데 제곱 계산을 하는 기능 추가\n",
        "    result = self.first ** self.second\n",
        "    return result\n",
        "\n",
        "cal1 = BigCal(2, 3)\n",
        "#cal1.pow()    # 부모가 자식의 자원을 사용할 수는 없다.\n",
        "print(cal1.add())\n",
        "\n",
        "cal2 = MidCal(2, 3)\n",
        "print(cal2.pow())\n",
        "print(cal2.add()) # 자식은 부모의 자원을 가져다가 쓴다.\n",
        "\n",
        "# 상속은 기존 클래스의 내용은 그대로 두고 클래스의 기능을 확장시킬 때 주로 사용\n"
      ],
      "metadata": {
        "colab": {
          "base_uri": "https://localhost:8080/"
        },
        "id": "WgZHneQKlG2a",
        "outputId": "e2ba2abd-0af7-48a8-900b-653bca2864de"
      },
      "execution_count": null,
      "outputs": [
        {
          "output_type": "stream",
          "name": "stdout",
          "text": [
            "5\n",
            "8\n",
            "5\n"
          ]
        }
      ]
    },
    {
      "cell_type": "code",
      "source": [
        "# 파이썬은 자바와는 달리 다중 상속을 지원한다.\n",
        "class A():\n",
        "  pass\n",
        "class B():\n",
        "  pass\n",
        "class C(A,B):\n",
        "  pass"
      ],
      "metadata": {
        "id": "h3ikgosXnYeJ"
      },
      "execution_count": null,
      "outputs": []
    },
    {
      "cell_type": "code",
      "source": [
        "# 메서드 오버라이딩\n",
        "class BigCal:\n",
        "\n",
        "  def __init__(self, first, second):\n",
        "    self.first = first\n",
        "    self.second = second\n",
        "    \n",
        "  def add(self):\n",
        "    result = self.first + self.second\n",
        "    return result\n",
        "\n",
        "  def sub(self):\n",
        "    result = self.first - self.second\n",
        "    return result\n",
        "\n",
        "  def mul(self):\n",
        "    result = self.first * self.second\n",
        "    return result\n",
        "\n",
        "  def div(self):\n",
        "    result = self.first / self.second\n",
        "    return result\n",
        "\n",
        "a = BigCal(2, 3)\n",
        "print(a.div())\n",
        "\n",
        "b = BigCal(2,0)\n",
        "# print(b.div()) # zerodivisionerror : division by zero"
      ],
      "metadata": {
        "colab": {
          "base_uri": "https://localhost:8080/"
        },
        "id": "cmS8c072n09H",
        "outputId": "d0bddb98-feb0-429e-d9f2-5df673823a9f"
      },
      "execution_count": null,
      "outputs": [
        {
          "output_type": "stream",
          "name": "stdout",
          "text": [
            "0.6666666666666666\n"
          ]
        }
      ]
    },
    {
      "cell_type": "code",
      "source": [
        "class OkCal(BigCal):\n",
        "  def div(self): # 부모 클래스의 div 메서드가 무시되고 자식께 실행된다.\n",
        "    if self.second == 0:\n",
        "      return \"0으로는 나눌 수 없습니다.\"\n",
        "    else:\n",
        "      return self.frist / self.second  \n",
        "\n",
        "c = OkCal(2, 0)\n",
        "print(c.div())      "
      ],
      "metadata": {
        "colab": {
          "base_uri": "https://localhost:8080/"
        },
        "id": "tPxcSgj4oe2f",
        "outputId": "b1be22e3-96c0-4616-dc1b-835163a579f1"
      },
      "execution_count": null,
      "outputs": [
        {
          "output_type": "stream",
          "name": "stdout",
          "text": [
            "0으로는 나눌 수 없습니다.\n"
          ]
        }
      ]
    },
    {
      "cell_type": "code",
      "source": [
        "# 클래스 변수 \n",
        "\n",
        "class Family:\n",
        "  lastname = \"김\"\n",
        "\n",
        "a = Family()\n",
        "b = Family()\n",
        "print(a.lastname)\n",
        "print(b.lastname)\n",
        "print(Family.lastname)  "
      ],
      "metadata": {
        "colab": {
          "base_uri": "https://localhost:8080/"
        },
        "id": "IMU8Q4L9qGjh",
        "outputId": "39118729-c2bd-4c47-da7b-ae4537301eae"
      },
      "execution_count": null,
      "outputs": [
        {
          "output_type": "stream",
          "name": "stdout",
          "text": [
            "김\n",
            "김\n",
            "김\n"
          ]
        }
      ]
    },
    {
      "cell_type": "code",
      "source": [
        "Family.lastname = \"박\"\n",
        "print(a.lastname)\n",
        "print(b.lastname)\n",
        "print(Family.lastname)  \n",
        "\n",
        "# 클래스 변수는 중요하게 쓰이지 않는다. 객체변수가 훨씬 중료"
      ],
      "metadata": {
        "colab": {
          "base_uri": "https://localhost:8080/"
        },
        "id": "u3720sDnrTq2",
        "outputId": "7495faa8-0d5c-47bc-998e-376f010f605b"
      },
      "execution_count": null,
      "outputs": [
        {
          "output_type": "stream",
          "name": "stdout",
          "text": [
            "박\n",
            "박\n",
            "박\n"
          ]
        }
      ]
    },
    {
      "cell_type": "code",
      "source": [
        "# 예외 처리 Exception\n",
        "\n",
        "# 프로그램을 만들다 보면 수많은 오류 / 예외 / 에러가 발생\n",
        "\n",
        "# 자주 접하는 예외\n",
        "# ZeroDevisionError  0으로 나누는 예외\n",
        "# indexError 없는 인덱스를 호출하였을 때 발생\n"
      ],
      "metadata": {
        "id": "NgZUBq1It-QH"
      },
      "execution_count": null,
      "outputs": []
    },
    {
      "cell_type": "code",
      "source": [
        "# indexError\n",
        "a  = [1, 2, 3, 4, 5]\n",
        "#print(a[5])"
      ],
      "metadata": {
        "id": "DqihDt0wyE1N"
      },
      "execution_count": null,
      "outputs": []
    },
    {
      "cell_type": "code",
      "source": [
        "# 파이썬에서의 예외 처리 기본\n",
        "\n",
        "# try:\n",
        "#  수행구문\n",
        "# except:\n",
        "# 예외 발생 처리 구문\n",
        "\n",
        "try:\n",
        "  4/0\n",
        "except:\n",
        "  print('0으로 나눌 수 없습니다.')  "
      ],
      "metadata": {
        "colab": {
          "base_uri": "https://localhost:8080/"
        },
        "id": "zbl3MzxmyOwE",
        "outputId": "e988b28f-7602-4f81-f543-a83495d0c4c8"
      },
      "execution_count": null,
      "outputs": [
        {
          "output_type": "stream",
          "name": "stdout",
          "text": [
            "0으로 나눌 수 없습니다.\n"
          ]
        }
      ]
    },
    {
      "cell_type": "code",
      "source": [
        "try:\n",
        "  4/0\n",
        "except ZeroDivisionError as e: # 특정 에러를 e 변수에 담는다\n",
        "  print(e)  "
      ],
      "metadata": {
        "colab": {
          "base_uri": "https://localhost:8080/"
        },
        "id": "3r2hKKc3zpB8",
        "outputId": "78d43497-cbf0-470d-84f0-00bdf2023234"
      },
      "execution_count": null,
      "outputs": [
        {
          "output_type": "stream",
          "name": "stdout",
          "text": [
            "division by zero\n"
          ]
        }
      ]
    },
    {
      "cell_type": "code",
      "source": [
        "try:\n",
        "  print(4/2)\n",
        "except ZeroDivisionError as e: # 특정 에러를 e 변수에 담는다\n",
        "  print(e)  \n",
        "finally:\n",
        "  print('프로그램을 종료합니다.')"
      ],
      "metadata": {
        "colab": {
          "base_uri": "https://localhost:8080/"
        },
        "id": "HcGDd-syzx2U",
        "outputId": "287e9c28-1cbd-4a1e-b716-0e71f9125683"
      },
      "execution_count": null,
      "outputs": [
        {
          "output_type": "stream",
          "name": "stdout",
          "text": [
            "2.0\n",
            "프로그램을 종료합니다.\n"
          ]
        }
      ]
    },
    {
      "cell_type": "code",
      "source": [
        "# 여러 예외 처리\n",
        "\n",
        "try:\n",
        "  a = [1,2,3,4,5]\n",
        "  print(a[5])\n",
        "  4/0\n",
        "except ZeroDivisionError:\n",
        "  print('0으로 나눌 수 없습니다.')\n",
        "except IndexError:\n",
        "  print('인덱싱 할 수 없습니다.')    \n",
        "\n",
        "  # 인덱싱 오류가 먼저 발생했기 때문에 4/0 오류는 아예 실행도 되지 않는다."
      ],
      "metadata": {
        "colab": {
          "base_uri": "https://localhost:8080/"
        },
        "id": "k1ug6ucyz9nc",
        "outputId": "e5910162-ff16-466b-fdf3-c3e1611d9655"
      },
      "execution_count": null,
      "outputs": [
        {
          "output_type": "stream",
          "name": "stdout",
          "text": [
            "인덱싱 할 수 없습니다.\n"
          ]
        }
      ]
    },
    {
      "cell_type": "code",
      "source": [
        "try:\n",
        "  a = [1,2,3,4,5]\n",
        "  print(a[5])\n",
        "  4/0\n",
        "except (ZeroDivisionError, IndexError) as e:\n",
        "  print(e)"
      ],
      "metadata": {
        "colab": {
          "base_uri": "https://localhost:8080/"
        },
        "id": "9q-shCVH0vRN",
        "outputId": "4fcb4f89-82b8-4467-d459-f9b14211e292"
      },
      "execution_count": null,
      "outputs": [
        {
          "output_type": "stream",
          "name": "stdout",
          "text": [
            "list index out of range\n"
          ]
        }
      ]
    },
    {
      "cell_type": "code",
      "source": [
        "# try else\n",
        "\n",
        "try:\n",
        "  실행구문\n",
        "except:\n",
        "  예외 발생시 처리 구문\n",
        "else:\n",
        "  오류가 없을때만 실행 되는 구문\n",
        "finally:\n",
        "  실행 구문\n",
        "\n",
        "예외 발생시 try -> excpet -> Finally\n",
        "예외 미발생 try -> else -> Finally       "
      ],
      "metadata": {
        "colab": {
          "base_uri": "https://localhost:8080/",
          "height": 137
        },
        "id": "D94x2RLc1B2V",
        "outputId": "8c40a87a-7e0d-4936-b81e-60a7433a001f"
      },
      "execution_count": null,
      "outputs": [
        {
          "output_type": "error",
          "ename": "SyntaxError",
          "evalue": "ignored",
          "traceback": [
            "\u001b[0;36m  File \u001b[0;32m\"<ipython-input-40-83e6d3c1a21d>\"\u001b[0;36m, line \u001b[0;32m6\u001b[0m\n\u001b[0;31m    예외 발생시 처리 구문\u001b[0m\n\u001b[0m       ^\u001b[0m\n\u001b[0;31mSyntaxError\u001b[0m\u001b[0;31m:\u001b[0m invalid syntax\n"
          ]
        }
      ]
    },
    {
      "cell_type": "code",
      "source": [
        "# 오류 발생시키기\n",
        "class Bird:\n",
        "  def fly(self):\n",
        "    raise NotImplementedError\n",
        "    # 파이썬에 미리 정의된 에러로 꼭 작성해야 하는 부분이 구현되지 않았을 경우\n",
        "    # 일부러 예외 상황이 아닌 상태에서도 예외 강제 발생\n",
        "\n",
        "\n",
        "class Eagle(Bird):\n",
        "  pass\n",
        "\n",
        "eagle = Eagle()\n",
        "eagle.fly()      "
      ],
      "metadata": {
        "colab": {
          "base_uri": "https://localhost:8080/",
          "height": 339
        },
        "id": "2IB8kkeO15hd",
        "outputId": "351f0550-ae8d-4fb8-a3b1-88d43b68a665"
      },
      "execution_count": null,
      "outputs": [
        {
          "output_type": "error",
          "ename": "NotImplementedError",
          "evalue": "ignored",
          "traceback": [
            "\u001b[0;31m---------------------------------------------------------------------------\u001b[0m",
            "\u001b[0;31mNotImplementedError\u001b[0m                       Traceback (most recent call last)",
            "\u001b[0;32m<ipython-input-41-5dcd0159dda5>\u001b[0m in \u001b[0;36m<module>\u001b[0;34m\u001b[0m\n\u001b[1;32m     11\u001b[0m \u001b[0;34m\u001b[0m\u001b[0m\n\u001b[1;32m     12\u001b[0m \u001b[0meagle\u001b[0m \u001b[0;34m=\u001b[0m \u001b[0mEagle\u001b[0m\u001b[0;34m(\u001b[0m\u001b[0;34m)\u001b[0m\u001b[0;34m\u001b[0m\u001b[0;34m\u001b[0m\u001b[0m\n\u001b[0;32m---> 13\u001b[0;31m \u001b[0meagle\u001b[0m\u001b[0;34m.\u001b[0m\u001b[0mfly\u001b[0m\u001b[0;34m(\u001b[0m\u001b[0;34m)\u001b[0m\u001b[0;34m\u001b[0m\u001b[0;34m\u001b[0m\u001b[0m\n\u001b[0m",
            "\u001b[0;32m<ipython-input-41-5dcd0159dda5>\u001b[0m in \u001b[0;36mfly\u001b[0;34m(self)\u001b[0m\n\u001b[1;32m      2\u001b[0m \u001b[0;32mclass\u001b[0m \u001b[0mBird\u001b[0m\u001b[0;34m:\u001b[0m\u001b[0;34m\u001b[0m\u001b[0;34m\u001b[0m\u001b[0m\n\u001b[1;32m      3\u001b[0m   \u001b[0;32mdef\u001b[0m \u001b[0mfly\u001b[0m\u001b[0;34m(\u001b[0m\u001b[0mself\u001b[0m\u001b[0;34m)\u001b[0m\u001b[0;34m:\u001b[0m\u001b[0;34m\u001b[0m\u001b[0;34m\u001b[0m\u001b[0m\n\u001b[0;32m----> 4\u001b[0;31m     \u001b[0;32mraise\u001b[0m \u001b[0mNotImplementedError\u001b[0m\u001b[0;34m\u001b[0m\u001b[0;34m\u001b[0m\u001b[0m\n\u001b[0m\u001b[1;32m      5\u001b[0m     \u001b[0;31m# 파이썬에 미리 정의된 에러로 꼭 작성해야 하는 부분이 구현되지 않았을 경우\u001b[0m\u001b[0;34m\u001b[0m\u001b[0;34m\u001b[0m\u001b[0;34m\u001b[0m\u001b[0m\n\u001b[1;32m      6\u001b[0m     \u001b[0;31m# 일부러 예외 상황이 아닌 상태에서도 예외 강제 발생\u001b[0m\u001b[0;34m\u001b[0m\u001b[0;34m\u001b[0m\u001b[0;34m\u001b[0m\u001b[0m\n",
            "\u001b[0;31mNotImplementedError\u001b[0m: "
          ]
        }
      ]
    },
    {
      "cell_type": "code",
      "source": [
        "# 예외 만들기\n",
        "class MyError(Exception): # 파이썬 내장 클래스를 상속\n",
        "  pass\n",
        "\n",
        "def say_nick(nick):\n",
        "  if nick == \"바보\":\n",
        "    raise MyError()\n",
        "  print(nick)\n",
        "\n",
        "print(say_nick(\"바보\"))    "
      ],
      "metadata": {
        "colab": {
          "base_uri": "https://localhost:8080/",
          "height": 339
        },
        "id": "YW3jQa3l3wMc",
        "outputId": "566a3b57-24cf-4180-a43f-4100e3a02b81"
      },
      "execution_count": null,
      "outputs": [
        {
          "output_type": "error",
          "ename": "MyError",
          "evalue": "ignored",
          "traceback": [
            "\u001b[0;31m---------------------------------------------------------------------------\u001b[0m",
            "\u001b[0;31mMyError\u001b[0m                                   Traceback (most recent call last)",
            "\u001b[0;32m<ipython-input-45-2cc5ebb77797>\u001b[0m in \u001b[0;36m<module>\u001b[0;34m\u001b[0m\n\u001b[1;32m      8\u001b[0m   \u001b[0mprint\u001b[0m\u001b[0;34m(\u001b[0m\u001b[0mnick\u001b[0m\u001b[0;34m)\u001b[0m\u001b[0;34m\u001b[0m\u001b[0;34m\u001b[0m\u001b[0m\n\u001b[1;32m      9\u001b[0m \u001b[0;34m\u001b[0m\u001b[0m\n\u001b[0;32m---> 10\u001b[0;31m \u001b[0mprint\u001b[0m\u001b[0;34m(\u001b[0m\u001b[0msay_nick\u001b[0m\u001b[0;34m(\u001b[0m\u001b[0;34m\"바보\"\u001b[0m\u001b[0;34m)\u001b[0m\u001b[0;34m)\u001b[0m\u001b[0;34m\u001b[0m\u001b[0;34m\u001b[0m\u001b[0m\n\u001b[0m",
            "\u001b[0;32m<ipython-input-45-2cc5ebb77797>\u001b[0m in \u001b[0;36msay_nick\u001b[0;34m(nick)\u001b[0m\n\u001b[1;32m      5\u001b[0m \u001b[0;32mdef\u001b[0m \u001b[0msay_nick\u001b[0m\u001b[0;34m(\u001b[0m\u001b[0mnick\u001b[0m\u001b[0;34m)\u001b[0m\u001b[0;34m:\u001b[0m\u001b[0;34m\u001b[0m\u001b[0;34m\u001b[0m\u001b[0m\n\u001b[1;32m      6\u001b[0m   \u001b[0;32mif\u001b[0m \u001b[0mnick\u001b[0m \u001b[0;34m==\u001b[0m \u001b[0;34m\"바보\"\u001b[0m\u001b[0;34m:\u001b[0m\u001b[0;34m\u001b[0m\u001b[0;34m\u001b[0m\u001b[0m\n\u001b[0;32m----> 7\u001b[0;31m     \u001b[0;32mraise\u001b[0m \u001b[0mMyError\u001b[0m\u001b[0;34m(\u001b[0m\u001b[0;34m)\u001b[0m\u001b[0;34m\u001b[0m\u001b[0;34m\u001b[0m\u001b[0m\n\u001b[0m\u001b[1;32m      8\u001b[0m   \u001b[0mprint\u001b[0m\u001b[0;34m(\u001b[0m\u001b[0mnick\u001b[0m\u001b[0;34m)\u001b[0m\u001b[0;34m\u001b[0m\u001b[0;34m\u001b[0m\u001b[0m\n\u001b[1;32m      9\u001b[0m \u001b[0;34m\u001b[0m\u001b[0m\n",
            "\u001b[0;31mMyError\u001b[0m: "
          ]
        }
      ]
    },
    {
      "cell_type": "code",
      "source": [
        "\n",
        "\n",
        "\n",
        "def input_num():\n",
        "  num = int(input('숫자를 하나 입력하세요 > '))\n",
        "  return num\n",
        "\n",
        "def count(num):\n",
        "  n = 1\n",
        "  while n<=num:\n",
        "    print(n)\n",
        "    n += 1\n",
        "\n",
        "def main():\n",
        "  num = input_num()\n",
        "  count(num)\n",
        "\n",
        "main()    \n",
        "\n"
      ],
      "metadata": {
        "colab": {
          "base_uri": "https://localhost:8080/"
        },
        "id": "kG-5dj_U5a1K",
        "outputId": "c5307d35-68d3-4e6d-e992-b968884ccae4"
      },
      "execution_count": null,
      "outputs": [
        {
          "output_type": "stream",
          "name": "stdout",
          "text": [
            "숫자를 하나 입력하세요 > 5\n",
            "1\n",
            "2\n",
            "3\n",
            "4\n",
            "5\n"
          ]
        }
      ]
    },
    {
      "cell_type": "code",
      "source": [
        "# 낮은 숫자와 높은 숫자를 입력받는 함수를 정의하세요.\n",
        "# 두 값 사이의 임의의 숫자를 생성하여 comp_num 이라는 변수에 저장하는 pick_num함수를 정의하세요.\n",
        "\n",
        "#하나의 숫자를 생각하세요 라는 메시지를 출력하고 사용자가 생각한 숫자를 입렫받는\n",
        "# first_guess 함수를 정의\n",
        "\n",
        "# 사용자가 입력한 숫자와 comp_num이 같은지 확인하여 같다면 '정답' 이라는 메시지출력\n",
        "#  틀리면 그 입력한 값이 낮은지 높은지 알려주고 숫자를 맞출때까지 다시 입력하도록\n",
        "# 반복하는 함수 생성 \n",
        "\n",
        "import random\n",
        "\n",
        "def pick_num():\n",
        "  min = int(input('낮은 숫자'))\n",
        "  max = int(input('높은 숫자'))\n",
        "  comp_num = random.randint(min, max)\n",
        "  return comp_num\n",
        "\n",
        "def first_guess():\n",
        "  guess = int(input('하나의 숫자를 생각하세요'))\n",
        "  return guess\n",
        "\n",
        "def check_answer(comp_num, guess):\n",
        "  try_again = True\n",
        "  while try_again == True:\n",
        "    if comp_num == guess:\n",
        "      print('정답')\n",
        "      try_again = False\n",
        "    elif comp_num > guess:\n",
        "      guess = int(input('더 높은 수를 입력해봐'))\n",
        "    else: \n",
        "      guess = int(input('더 낮은 수를 입력해봐'))\n",
        "\n",
        "  \n",
        "\n",
        "def main():\n",
        "  comp_num = pick_num()\n",
        "  guess = first_guess()\n",
        "  check_answer(comp_num, guess)\n",
        "\n",
        "main()        "
      ],
      "metadata": {
        "colab": {
          "base_uri": "https://localhost:8080/"
        },
        "id": "xIz8O78Q-g8i",
        "outputId": "3c6ce3b2-506b-4010-d4cf-ebf781345578"
      },
      "execution_count": 59,
      "outputs": [
        {
          "output_type": "stream",
          "name": "stdout",
          "text": [
            "낮은 숫자1\n",
            "높은 숫자3\n",
            "하나의 숫자를 생각하세요2\n",
            "정답\n"
          ]
        }
      ]
    },
    {
      "cell_type": "code",
      "source": [
        "def print_max(a, b, c):\n",
        "  max = a\n",
        "  if b > max:\n",
        "    max = b\n",
        "  else:\n",
        "    max = c\n",
        "  return max \n",
        "\n",
        "print_max(4, 6, 2)    "
      ],
      "metadata": {
        "colab": {
          "base_uri": "https://localhost:8080/"
        },
        "id": "PC6RMyTwGWif",
        "outputId": "f63fd296-ffc5-470c-a70d-29e27809b32b"
      },
      "execution_count": 66,
      "outputs": [
        {
          "output_type": "execute_result",
          "data": {
            "text/plain": [
              "6"
            ]
          },
          "metadata": {},
          "execution_count": 66
        }
      ]
    },
    {
      "cell_type": "code",
      "source": [
        "def print_reverse(str):\n",
        "  print(str[::-1])\n",
        "\n",
        "\n",
        "print_reverse('hello')  \n"
      ],
      "metadata": {
        "colab": {
          "base_uri": "https://localhost:8080/"
        },
        "id": "nvmvte9WIBsu",
        "outputId": "21c1b38b-b732-4633-90f2-3b779a555bc2"
      },
      "execution_count": 74,
      "outputs": [
        {
          "output_type": "stream",
          "name": "stdout",
          "text": [
            "olleh\n"
          ]
        }
      ]
    }
  ]
}