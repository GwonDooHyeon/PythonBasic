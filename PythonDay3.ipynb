{
  "nbformat": 4,
  "nbformat_minor": 0,
  "metadata": {
    "colab": {
      "provenance": [],
      "authorship_tag": "ABX9TyN3NFCFzIVr61f1WXc114/v",
      "include_colab_link": true
    },
    "kernelspec": {
      "name": "python3",
      "display_name": "Python 3"
    },
    "language_info": {
      "name": "python"
    },
    "gpuClass": "standard"
  },
  "cells": [
    {
      "cell_type": "markdown",
      "metadata": {
        "id": "view-in-github",
        "colab_type": "text"
      },
      "source": [
        "<a href=\"https://colab.research.google.com/github/GwonDooHyeon/PythonBasic/blob/main/PythonDay3.ipynb\" target=\"_parent\"><img src=\"https://colab.research.google.com/assets/colab-badge.svg\" alt=\"Open In Colab\"/></a>"
      ]
    },
    {
      "cell_type": "code",
      "execution_count": null,
      "metadata": {
        "colab": {
          "base_uri": "https://localhost:8080/"
        },
        "id": "cQIONV7hHqQn",
        "outputId": "52919967-a30d-416a-bcff-e4d5fa7a7a86"
      },
      "outputs": [
        {
          "output_type": "stream",
          "name": "stdout",
          "text": [
            "10\n"
          ]
        }
      ],
      "source": [
        "# 조건문 if\n",
        "\n",
        "x = 10\n",
        "if x == 10:\n",
        "  print(x)"
      ]
    },
    {
      "cell_type": "code",
      "source": [
        "a = int(input('정수를 입력하세요'))\n",
        "if a == 5:\n",
        "  print(f'입력한 값은 {a}입니다')"
      ],
      "metadata": {
        "colab": {
          "base_uri": "https://localhost:8080/"
        },
        "id": "NMKXSFwGKEg3",
        "outputId": "92109eab-714f-4f81-939a-b1da938c63df"
      },
      "execution_count": null,
      "outputs": [
        {
          "output_type": "stream",
          "name": "stdout",
          "text": [
            "정수를 입력하세요5\n",
            "입력한 값은 5입니다\n"
          ]
        }
      ]
    },
    {
      "cell_type": "code",
      "source": [
        "# 조건식을 여러개 취급해야하는 경우 가능하면 중첩/병렬 if문은 사용하지 말자.\n",
        "x = 15\n",
        "if x>=10 :\n",
        "  print('x는 10 이상입니다.')\n",
        "  if x<=20:\n",
        "    print('x는 20이하입니다.')\n",
        "  if x==15:\n",
        "    print('x는 15입니다.')\n"
      ],
      "metadata": {
        "colab": {
          "base_uri": "https://localhost:8080/"
        },
        "id": "AQgzlpvHLTzm",
        "outputId": "cf97e2c0-40a2-4244-af99-172d59595995"
      },
      "execution_count": null,
      "outputs": [
        {
          "output_type": "stream",
          "name": "stdout",
          "text": [
            "x는 10 이상입니다.\n",
            "x는 20이하입니다.\n",
            "x는 15입니다.\n"
          ]
        }
      ]
    },
    {
      "cell_type": "code",
      "source": [
        "a = int(input('숫자를 입력하세요'))\n",
        "\n",
        "if a > 5 :\n",
        "  print('입력값이 5보다 큽니다.')\n",
        "elif a == 5:\n",
        "  print('입력값이 5입니다.')\n",
        "else:\n",
        "  print('입력값이 5보다 작습니다')"
      ],
      "metadata": {
        "colab": {
          "base_uri": "https://localhost:8080/"
        },
        "id": "l-24Xe43Mesf",
        "outputId": "cec37b95-c914-4a1d-b6ac-86be5298dfc6"
      },
      "execution_count": null,
      "outputs": [
        {
          "output_type": "stream",
          "name": "stdout",
          "text": [
            "숫자를 입력하세요4\n",
            "입력값이 5보다 작습니다\n"
          ]
        }
      ]
    },
    {
      "cell_type": "code",
      "source": [
        "a = int(input('월을 입력하세요'))\n",
        "if a >=3 and a<=5:\n",
        "  print('봄')\n",
        "elif a >=6 and a<=8:\n",
        "  print('여름')\n",
        "elif a >=9 and a<=11:\n",
        "  print('가을') \n",
        "else:\n",
        "  print('겨울')"
      ],
      "metadata": {
        "colab": {
          "base_uri": "https://localhost:8080/"
        },
        "id": "HkwvUvFHM-eo",
        "outputId": "b1afa791-4b51-4469-d60a-62f32d1bcf46"
      },
      "execution_count": null,
      "outputs": [
        {
          "output_type": "stream",
          "name": "stdout",
          "text": [
            "월을 입력하세요10\n",
            "가을\n"
          ]
        }
      ]
    },
    {
      "cell_type": "code",
      "source": [
        "a = int(input())\n",
        "\n",
        "print('홀수') if a % 2 == 1 else print('짝수')"
      ],
      "metadata": {
        "colab": {
          "base_uri": "https://localhost:8080/"
        },
        "id": "Auyo7UkYQdd0",
        "outputId": "da826b8d-8d5b-45e0-a27c-f49fc4b74c9b"
      },
      "execution_count": null,
      "outputs": [
        {
          "output_type": "stream",
          "name": "stdout",
          "text": [
            "20\n",
            "짝수\n"
          ]
        }
      ]
    },
    {
      "cell_type": "code",
      "source": [
        "list1 = ['봄', '가을']\n",
        "\n",
        "input1 = input('어느 계절을 좋아하시나요?')\n",
        "\n",
        "if input1 in list1:\n",
        "  print(f'{input1}은 여행 가능한 계절입니다.')\n",
        "else:\n",
        "  print(f'{input1}에 여행이 불가능한 계절입니다.')"
      ],
      "metadata": {
        "colab": {
          "base_uri": "https://localhost:8080/"
        },
        "id": "tQZyLoCxWfbE",
        "outputId": "3b4f32f9-5c79-4b40-a812-b5d96bb8400c"
      },
      "execution_count": null,
      "outputs": [
        {
          "output_type": "stream",
          "name": "stdout",
          "text": [
            "어느 계절을 좋아하시나요?가을\n",
            "가을은 여행 가능한 계절입니다.\n"
          ]
        }
      ]
    },
    {
      "cell_type": "code",
      "source": [
        "a = int(input())\n",
        "\n",
        "if a>89 :\n",
        "  grade = 'A'\n",
        "elif(a >79):\n",
        "  grade = 'B'\n",
        "elif(a >69):\n",
        "  grade = 'C'\n",
        "elif(a > 59):\n",
        "  grade = 'D'\n",
        "else:\n",
        "  grade = 'E'  \n",
        "\n",
        "print(f'당신의 점수 {a}는 {grade}학점입니다.')  \n",
        "\n"
      ],
      "metadata": {
        "colab": {
          "base_uri": "https://localhost:8080/"
        },
        "id": "Tnk8p5hNX5kT",
        "outputId": "e5e1da15-3b76-4ba0-fe96-218bf64db5ea"
      },
      "execution_count": null,
      "outputs": [
        {
          "output_type": "stream",
          "name": "stdout",
          "text": [
            "51\n",
            "당신의 점수 51는 E학점입니다.\n"
          ]
        }
      ]
    },
    {
      "cell_type": "code",
      "source": [
        "# 반복문 While For\n",
        "\n",
        "# While은 반복횟수가 불명확할때 사용\n",
        "# For문은 반복횟수가 명확할때 주로 사용된다.\n",
        "\n",
        "for i in range(10):\n",
        "  print('hi')"
      ],
      "metadata": {
        "colab": {
          "base_uri": "https://localhost:8080/"
        },
        "id": "Xh9Zb0HAayg6",
        "outputId": "3712397d-5ab2-4298-cc8c-687b90c50782"
      },
      "execution_count": null,
      "outputs": [
        {
          "output_type": "stream",
          "name": "stdout",
          "text": [
            "hi\n",
            "hi\n",
            "hi\n",
            "hi\n",
            "hi\n",
            "hi\n",
            "hi\n",
            "hi\n",
            "hi\n",
            "hi\n"
          ]
        }
      ]
    },
    {
      "cell_type": "code",
      "source": [
        "list1 = [10, 30, 20, 50]\n",
        "for i in list1:\n",
        "  print(i)"
      ],
      "metadata": {
        "colab": {
          "base_uri": "https://localhost:8080/"
        },
        "id": "vSxB2_aJc1xX",
        "outputId": "6c6633f8-6b11-4c3f-c46d-68eece4c272d"
      },
      "execution_count": null,
      "outputs": [
        {
          "output_type": "stream",
          "name": "stdout",
          "text": [
            "10\n",
            "30\n",
            "20\n",
            "50\n"
          ]
        }
      ]
    },
    {
      "cell_type": "code",
      "source": [
        "list1 = [10, 30, 20, 50]\n",
        "for i in range(4):\n",
        "  print(list1[i])"
      ],
      "metadata": {
        "colab": {
          "base_uri": "https://localhost:8080/"
        },
        "id": "LM86AX_PdM98",
        "outputId": "b38c2e96-9d55-47fc-e6d2-860183c85f3c"
      },
      "execution_count": null,
      "outputs": [
        {
          "output_type": "stream",
          "name": "stdout",
          "text": [
            "10\n",
            "30\n",
            "20\n",
            "50\n"
          ]
        }
      ]
    },
    {
      "cell_type": "code",
      "source": [
        "sum = 0\n",
        "for i in range(101):\n",
        "  sum += i\n",
        "print(sum)  "
      ],
      "metadata": {
        "colab": {
          "base_uri": "https://localhost:8080/"
        },
        "id": "KmPSd7PodbF9",
        "outputId": "761534a9-5c74-44f4-b1b6-5ac988ac10c9"
      },
      "execution_count": null,
      "outputs": [
        {
          "output_type": "stream",
          "name": "stdout",
          "text": [
            "5050\n"
          ]
        }
      ]
    },
    {
      "cell_type": "code",
      "source": [
        "#for i in range(2, 10):\n",
        "#  for j in range(1, 10):\n",
        "#    print(i, \"x\", j, \"=\", i * j)\n",
        "\n",
        "for i in range(2, 10):\n",
        "  for j in range(1, 10):\n",
        "    print(i, \"x\", j, \"=\", i * j, end='\\t')\n",
        "  print('')\n",
        "\n",
        "\n",
        "\n"
      ],
      "metadata": {
        "colab": {
          "base_uri": "https://localhost:8080/"
        },
        "id": "Cg4MIgkqhzEl",
        "outputId": "156c8591-f732-4bc0-94b8-c76a513b1620"
      },
      "execution_count": null,
      "outputs": [
        {
          "output_type": "stream",
          "name": "stdout",
          "text": [
            "2 x 1 = 2\t2 x 2 = 4\t2 x 3 = 6\t2 x 4 = 8\t2 x 5 = 10\t2 x 6 = 12\t2 x 7 = 14\t2 x 8 = 16\t2 x 9 = 18\t\n",
            "3 x 1 = 3\t3 x 2 = 6\t3 x 3 = 9\t3 x 4 = 12\t3 x 5 = 15\t3 x 6 = 18\t3 x 7 = 21\t3 x 8 = 24\t3 x 9 = 27\t\n",
            "4 x 1 = 4\t4 x 2 = 8\t4 x 3 = 12\t4 x 4 = 16\t4 x 5 = 20\t4 x 6 = 24\t4 x 7 = 28\t4 x 8 = 32\t4 x 9 = 36\t\n",
            "5 x 1 = 5\t5 x 2 = 10\t5 x 3 = 15\t5 x 4 = 20\t5 x 5 = 25\t5 x 6 = 30\t5 x 7 = 35\t5 x 8 = 40\t5 x 9 = 45\t\n",
            "6 x 1 = 6\t6 x 2 = 12\t6 x 3 = 18\t6 x 4 = 24\t6 x 5 = 30\t6 x 6 = 36\t6 x 7 = 42\t6 x 8 = 48\t6 x 9 = 54\t\n",
            "7 x 1 = 7\t7 x 2 = 14\t7 x 3 = 21\t7 x 4 = 28\t7 x 5 = 35\t7 x 6 = 42\t7 x 7 = 49\t7 x 8 = 56\t7 x 9 = 63\t\n",
            "8 x 1 = 8\t8 x 2 = 16\t8 x 3 = 24\t8 x 4 = 32\t8 x 5 = 40\t8 x 6 = 48\t8 x 7 = 56\t8 x 8 = 64\t8 x 9 = 72\t\n",
            "9 x 1 = 9\t9 x 2 = 18\t9 x 3 = 27\t9 x 4 = 36\t9 x 5 = 45\t9 x 6 = 54\t9 x 7 = 63\t9 x 8 = 72\t9 x 9 = 81\t\n"
          ]
        }
      ]
    },
    {
      "cell_type": "code",
      "source": [
        "i = 10\n",
        "while i > 5:\n",
        "  print('hi')\n",
        "  i -= 1"
      ],
      "metadata": {
        "colab": {
          "base_uri": "https://localhost:8080/"
        },
        "id": "qTkb8alxlCP3",
        "outputId": "96e60895-22b8-4b03-bde6-9113979c43af"
      },
      "execution_count": null,
      "outputs": [
        {
          "output_type": "stream",
          "name": "stdout",
          "text": [
            "hi\n",
            "hi\n",
            "hi\n",
            "hi\n",
            "hi\n"
          ]
        }
      ]
    },
    {
      "cell_type": "code",
      "source": [
        "import random\n",
        "\n",
        "no = 0 \n",
        "while no != 3: # 3이 나올때 까지 반복하여 난수 발생\n",
        "  no = random.randint(1, 6) #randint는 끝 숫자도 포함된다.\n",
        "  print(f'발생된 난수는 {no}입니다.')"
      ],
      "metadata": {
        "colab": {
          "base_uri": "https://localhost:8080/"
        },
        "id": "986Em0IZl-l4",
        "outputId": "82bc84f4-58fa-4422-9e2d-dbba806bdfba"
      },
      "execution_count": null,
      "outputs": [
        {
          "output_type": "stream",
          "name": "stdout",
          "text": [
            "발생된 난수는 5입니다.\n",
            "발생된 난수는 4입니다.\n",
            "발생된 난수는 3입니다.\n"
          ]
        }
      ]
    },
    {
      "cell_type": "code",
      "source": [
        "# 난수 발생 정리\n",
        "import random \n",
        "\n",
        "random.random() # 0에서 1미만 실수 float으로 생성"
      ],
      "metadata": {
        "colab": {
          "base_uri": "https://localhost:8080/"
        },
        "id": "ioUgcE0ynz-I",
        "outputId": "b4653d34-f631-4bb1-b360-c23084b2fa88"
      },
      "execution_count": null,
      "outputs": [
        {
          "output_type": "execute_result",
          "data": {
            "text/plain": [
              "0.8250675444383959"
            ]
          },
          "metadata": {},
          "execution_count": 128
        }
      ]
    },
    {
      "cell_type": "code",
      "source": [
        "random.randint(1, 5) # 1에서 5이하 정수 생성"
      ],
      "metadata": {
        "colab": {
          "base_uri": "https://localhost:8080/"
        },
        "id": "_WogQwnqoGQC",
        "outputId": "b6fd84bf-1bfd-49f5-db87-556b3a96b650"
      },
      "execution_count": null,
      "outputs": [
        {
          "output_type": "execute_result",
          "data": {
            "text/plain": [
              "3"
            ]
          },
          "metadata": {},
          "execution_count": 142
        }
      ]
    },
    {
      "cell_type": "code",
      "source": [
        "random.randrange(0, 10, 2) #0에서 10미만 중 2의 배수로 난수 발생"
      ],
      "metadata": {
        "colab": {
          "base_uri": "https://localhost:8080/"
        },
        "id": "wlYx7uZ_oTiU",
        "outputId": "49bce908-ef5c-4174-a924-64b2a7af27b2"
      },
      "execution_count": null,
      "outputs": [
        {
          "output_type": "execute_result",
          "data": {
            "text/plain": [
              "4"
            ]
          },
          "metadata": {},
          "execution_count": 168
        }
      ]
    },
    {
      "cell_type": "code",
      "source": [
        "random.choice(['봄', '여름', '가을', '겨울']) # 리스트의 값 들중 하나를 선택"
      ],
      "metadata": {
        "colab": {
          "base_uri": "https://localhost:8080/",
          "height": 35
        },
        "id": "BFHuKKQGoj6j",
        "outputId": "24b73c7d-f2f1-43e1-f0b2-12c19a4efb7b"
      },
      "execution_count": null,
      "outputs": [
        {
          "output_type": "execute_result",
          "data": {
            "text/plain": [
              "'봄'"
            ],
            "application/vnd.google.colaboratory.intrinsic+json": {
              "type": "string"
            }
          },
          "metadata": {},
          "execution_count": 173
        }
      ]
    },
    {
      "cell_type": "code",
      "source": [
        "random.sample(range(1, 46), 6) #1부터 46까지 임의의 6개 뽑기"
      ],
      "metadata": {
        "colab": {
          "base_uri": "https://localhost:8080/"
        },
        "id": "TJWLM_2-o3pM",
        "outputId": "479e6dc1-9974-4e63-fc22-82c5716bdd22"
      },
      "execution_count": null,
      "outputs": [
        {
          "output_type": "execute_result",
          "data": {
            "text/plain": [
              "[39, 21, 15, 5, 23, 35]"
            ]
          },
          "metadata": {},
          "execution_count": 177
        }
      ]
    },
    {
      "cell_type": "code",
      "source": [
        "list1 = [1,2,3,4,5]\n",
        "print(list1)\n",
        "random.shuffle(list1)\n",
        "print(list1)"
      ],
      "metadata": {
        "colab": {
          "base_uri": "https://localhost:8080/"
        },
        "id": "SYo8EvPNpWfB",
        "outputId": "e3513fb3-a24c-45dc-a170-032cdc5f5447"
      },
      "execution_count": null,
      "outputs": [
        {
          "output_type": "stream",
          "name": "stdout",
          "text": [
            "[1, 2, 3, 4, 5]\n",
            "[1, 2, 3, 4, 5]\n"
          ]
        }
      ]
    },
    {
      "cell_type": "code",
      "source": [
        "# break continue\n",
        "\n",
        "i = 0\n",
        "while i < 10:\n",
        "  i += 1\n",
        "  if i % 2 == 0:\n",
        "    if i == 4:\n",
        "      break\n",
        "    print(i)\n",
        "    "
      ],
      "metadata": {
        "colab": {
          "base_uri": "https://localhost:8080/"
        },
        "id": "enn796Wpqn2z",
        "outputId": "a2eb5732-625a-47f3-f6a7-5f5d969018f4"
      },
      "execution_count": null,
      "outputs": [
        {
          "output_type": "stream",
          "name": "stdout",
          "text": [
            "2\n"
          ]
        }
      ]
    }
  ]
}