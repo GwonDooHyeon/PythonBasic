{
  "nbformat": 4,
  "nbformat_minor": 0,
  "metadata": {
    "colab": {
      "provenance": [],
      "authorship_tag": "ABX9TyMip2GqfMTFk8i52u41DHK/",
      "include_colab_link": true
    },
    "kernelspec": {
      "name": "python3",
      "display_name": "Python 3"
    },
    "language_info": {
      "name": "python"
    }
  },
  "cells": [
    {
      "cell_type": "markdown",
      "metadata": {
        "id": "view-in-github",
        "colab_type": "text"
      },
      "source": [
        "<a href=\"https://colab.research.google.com/github/GwonDooHyeon/PythonBasic/blob/main/PythonDay2.ipynb\" target=\"_parent\"><img src=\"https://colab.research.google.com/assets/colab-badge.svg\" alt=\"Open In Colab\"/></a>"
      ]
    },
    {
      "cell_type": "code",
      "execution_count": 3,
      "metadata": {
        "colab": {
          "base_uri": "https://localhost:8080/"
        },
        "id": "TGPPcPPKgoGK",
        "outputId": "a109f282-a87f-4f25-cd37-a755db618297"
      },
      "outputs": [
        {
          "output_type": "execute_result",
          "data": {
            "text/plain": [
              "2"
            ]
          },
          "metadata": {},
          "execution_count": 3
        }
      ],
      "source": [
        "# 문자열 함수(메서드)\n",
        "\n",
        "#문자 개수 세기(count)\n",
        "\n",
        "a = \"school\"\n",
        "a.count('o')"
      ]
    },
    {
      "cell_type": "code",
      "source": [
        "# 위치 알아내기 (find) , 만약 없는 문자를 찾는 경우 -1 출력\n",
        "a = \"school\"\n",
        "print(a.find('o'))\n",
        "print(a.find('z'))"
      ],
      "metadata": {
        "colab": {
          "base_uri": "https://localhost:8080/"
        },
        "id": "gjpiMZsihNRb",
        "outputId": "3a640c25-f6cb-49fd-8eb6-24caae6acecd"
      },
      "execution_count": 10,
      "outputs": [
        {
          "output_type": "stream",
          "name": "stdout",
          "text": [
            "3\n",
            "-1\n"
          ]
        }
      ]
    },
    {
      "cell_type": "code",
      "source": [
        "# 위치 알아내기 (index), 만약 없는 문자를 찾는경우 오류 출력\n",
        "\n",
        "a = \"school\"\n",
        "print(a.index('o'))  # 처음 나오는 위치의 index 번호\n",
        "# print(a.index('z'))\n",
        "\n"
      ],
      "metadata": {
        "colab": {
          "base_uri": "https://localhost:8080/"
        },
        "id": "jMmrCWKYhguT",
        "outputId": "c9f0cf4c-ab11-43e6-bb74-62731ca36ec5"
      },
      "execution_count": 12,
      "outputs": [
        {
          "output_type": "stream",
          "name": "stdout",
          "text": [
            "3\n"
          ]
        }
      ]
    },
    {
      "cell_type": "code",
      "source": [
        "#문자 삽입 join\n",
        "\n",
        "print(\" \".join(\"abcd\"))\n",
        "print(\",\".join(\"abcd\"))"
      ],
      "metadata": {
        "colab": {
          "base_uri": "https://localhost:8080/"
        },
        "id": "dngOcgz3iRNg",
        "outputId": "a0f43660-a257-4964-f55f-c2507f8bf7f4"
      },
      "execution_count": 17,
      "outputs": [
        {
          "output_type": "stream",
          "name": "stdout",
          "text": [
            "a b c d\n",
            "a,b,c,d\n"
          ]
        }
      ]
    },
    {
      "cell_type": "code",
      "source": [
        "# 대문자로 바꾸기 upper\n",
        "\n",
        "a = \"Hello\"\n",
        "a.upper()"
      ],
      "metadata": {
        "colab": {
          "base_uri": "https://localhost:8080/",
          "height": 35
        },
        "id": "bUua5_cdimMY",
        "outputId": "a3028b9b-c9ee-46b0-f48b-fb0744c5ec55"
      },
      "execution_count": 19,
      "outputs": [
        {
          "output_type": "execute_result",
          "data": {
            "text/plain": [
              "'HELLO'"
            ],
            "application/vnd.google.colaboratory.intrinsic+json": {
              "type": "string"
            }
          },
          "metadata": {},
          "execution_count": 19
        }
      ]
    },
    {
      "cell_type": "code",
      "source": [
        "# 소문자로 바꾸기 lower\n",
        "a = \"HELlo\"\n",
        "a.lower()"
      ],
      "metadata": {
        "colab": {
          "base_uri": "https://localhost:8080/",
          "height": 35
        },
        "id": "np7qnYjriwAY",
        "outputId": "afb41db6-406c-444e-f192-d92f9c7a6298"
      },
      "execution_count": 21,
      "outputs": [
        {
          "output_type": "execute_result",
          "data": {
            "text/plain": [
              "'hello'"
            ],
            "application/vnd.google.colaboratory.intrinsic+json": {
              "type": "string"
            }
          },
          "metadata": {},
          "execution_count": 21
        }
      ]
    },
    {
      "cell_type": "code",
      "source": [
        "# 공백 제거 왼쪽 lstrip\n",
        "a = ' Hello'\n",
        "a.lstrip()"
      ],
      "metadata": {
        "colab": {
          "base_uri": "https://localhost:8080/",
          "height": 35
        },
        "id": "iiydD_27jB8B",
        "outputId": "09be246b-7d91-49a8-fe5e-f82c16170c57"
      },
      "execution_count": 24,
      "outputs": [
        {
          "output_type": "execute_result",
          "data": {
            "text/plain": [
              "'Hello'"
            ],
            "application/vnd.google.colaboratory.intrinsic+json": {
              "type": "string"
            }
          },
          "metadata": {},
          "execution_count": 24
        }
      ]
    },
    {
      "cell_type": "code",
      "source": [
        "# 공백 제거 오른쪽 rstrip\n",
        "a = \"Hello \"\n",
        "a.rstrip()"
      ],
      "metadata": {
        "colab": {
          "base_uri": "https://localhost:8080/",
          "height": 35
        },
        "id": "YrYjQXLWjTYH",
        "outputId": "021f72ae-6be5-4029-90dd-64b67fa9e776"
      },
      "execution_count": 26,
      "outputs": [
        {
          "output_type": "execute_result",
          "data": {
            "text/plain": [
              "'Hello'"
            ],
            "application/vnd.google.colaboratory.intrinsic+json": {
              "type": "string"
            }
          },
          "metadata": {},
          "execution_count": 26
        }
      ]
    },
    {
      "cell_type": "code",
      "source": [
        "# 공백 제거 왼쪽/오른쪽(둘다) 제거 strip\n",
        "\n",
        "a = \" hello \"\n",
        "a.strip()"
      ],
      "metadata": {
        "colab": {
          "base_uri": "https://localhost:8080/",
          "height": 35
        },
        "id": "iHSlbvWmjbqQ",
        "outputId": "8619daa7-35dd-4ea1-9637-d2b4f413b730"
      },
      "execution_count": 28,
      "outputs": [
        {
          "output_type": "execute_result",
          "data": {
            "text/plain": [
              "'hello'"
            ],
            "application/vnd.google.colaboratory.intrinsic+json": {
              "type": "string"
            }
          },
          "metadata": {},
          "execution_count": 28
        }
      ]
    },
    {
      "cell_type": "code",
      "source": [
        "# 글자 바꾸기 replace\n",
        "\n",
        "a = \"i love you\"\n",
        "a.replace(\"love\", \"hate\")"
      ],
      "metadata": {
        "colab": {
          "base_uri": "https://localhost:8080/",
          "height": 35
        },
        "id": "N5Vyv3aZjjtu",
        "outputId": "33cc5840-173b-45c7-8167-7d5f2f095dae"
      },
      "execution_count": 30,
      "outputs": [
        {
          "output_type": "execute_result",
          "data": {
            "text/plain": [
              "'i hate you'"
            ],
            "application/vnd.google.colaboratory.intrinsic+json": {
              "type": "string"
            }
          },
          "metadata": {},
          "execution_count": 30
        }
      ]
    },
    {
      "cell_type": "code",
      "source": [
        "# 문자열 나누기 split\n",
        "\n",
        "addr = \"서울시 강남구 테헤란로 77\"\n",
        "print(addr.split()) # 생략시 빈칸을 기준으로 분리\n",
        "\n",
        "addr = \"서울시#강남구#테헤란로#77\"\n",
        "print(addr.split(\"#\")) # 생략시 빈칸을 기준으로 분리\n",
        "print(type(addr.split(\"#\")))"
      ],
      "metadata": {
        "colab": {
          "base_uri": "https://localhost:8080/"
        },
        "id": "eD-2JGHDjxhl",
        "outputId": "0765afa0-2b4f-41ce-9ec2-5d8da23bfd04"
      },
      "execution_count": 35,
      "outputs": [
        {
          "output_type": "stream",
          "name": "stdout",
          "text": [
            "['서울시', '강남구', '테헤란로', '77']\n",
            "['서울시', '강남구', '테헤란로', '77']\n",
            "<class 'list'>\n"
          ]
        }
      ]
    },
    {
      "cell_type": "code",
      "source": [
        "# LIST, TUPLE, DICT, SET\n",
        "# 여러 데이터들의 묶음 Collection 컬렉션\n",
        "\n",
        "\n",
        "# LIST --> [] 대괄호\n",
        "# mutable 수정 가능하다.\n",
        "# ordered 순서가 있다.\n",
        "# indexing & slicing이 가능\n",
        "# [1]\n",
        "\n",
        "a = []\n",
        "b = [1,2,3]\n",
        "c = ['a', 'b', 'c']\n",
        "d = [1, 2, 'a', 'b']\n",
        "\n",
        "print(b[0]) # 인덱싱\n",
        "print(c[1:]) # 슬라이싱\n",
        "print(d[-1]) # 마지막 요소는 -1\n",
        "\n",
        "# a[0] = 9    # a 리스트에 아무 원소가 없어서 에러 발생\n",
        "b[0] = 9     # b 리스트는 원소가 있으므로 수정 가능\n",
        "print(b)\n",
        "\n",
        "print(c)\n",
        "del c[2]  # 리스트는 삭제 가능\n",
        "print(c)\n",
        "\n",
        "print(a)\n",
        "a.append(0) # 리스트는 삽입 가능\n",
        "print(a)"
      ],
      "metadata": {
        "colab": {
          "base_uri": "https://localhost:8080/"
        },
        "id": "LwLcqKG-k-Q7",
        "outputId": "45efffae-ffef-4569-d38e-2e6fbf1b0247"
      },
      "execution_count": 43,
      "outputs": [
        {
          "output_type": "stream",
          "name": "stdout",
          "text": [
            "1\n",
            "['b', 'c']\n",
            "b\n",
            "[9, 2, 3]\n",
            "['a', 'b', 'c']\n",
            "['a', 'b']\n",
            "[]\n",
            "[0]\n"
          ]
        }
      ]
    },
    {
      "cell_type": "code",
      "source": [
        "# 리스트에서 많이 사용되는 함수 정리\n",
        "\n",
        "#요소 추가 append  - 마지막 위치에만 요소 추가\n",
        "a.append(0)\n",
        "print(a)\n",
        "\n",
        "# 요소 추가 insert - 특정 위치 지정하여 요소 추가 가능\n",
        "d = [1, 2, 3]\n",
        "d.insert(0, 5)\n",
        "print(d)\n",
        "\n",
        "# 정렬 sort\n",
        "a = [1, 3, 2, 4]\n",
        "a.sort()\n",
        "print(a)\n",
        "\n",
        "# 뒤집기 reverse\n",
        "a.reverse()\n",
        "print(a)\n",
        "\n",
        "# 인덱스 index\n",
        "a.index(3)\n",
        "# a.index(5) 없는 요소는 에러 발생\n",
        "\n",
        "# 삭제 remove 중복 되는 수는 처음 등장하는 하나만 삭제 \n",
        "print()\n",
        "a = [1, 2, 3, 3, 5] \n",
        "a.remove(3)\n",
        "print(a)\n",
        "\n",
        "# 삭제 pop \n",
        "a = [1, 2, 3]\n",
        "a.pop() # 괄호에 값이 없으면 마지막 요소를 삭제\n",
        "print(a)\n",
        "\n",
        "a = [1, 2, 3]\n",
        "a.pop(0) # 괄호에 값이 있으면 그 요소를 삭제\n",
        "print(a)\n",
        "\n",
        "# 개수 세기 count\n",
        "a = [1, 2, 3, 3]\n",
        "print(a.count(3))\n"
      ],
      "metadata": {
        "colab": {
          "base_uri": "https://localhost:8080/"
        },
        "id": "0eUTPxEgyDh1",
        "outputId": "10e594d7-50ec-418b-8365-f57370f7cbdb"
      },
      "execution_count": 60,
      "outputs": [
        {
          "output_type": "stream",
          "name": "stdout",
          "text": [
            "[1, 2, 3, 3, 0]\n",
            "[5, 1, 2, 3]\n",
            "[1, 2, 3, 4]\n",
            "[4, 3, 2, 1]\n",
            "\n",
            "[1, 2, 3, 5]\n",
            "[1, 2]\n",
            "[2, 3]\n",
            "2\n"
          ]
        }
      ]
    },
    {
      "cell_type": "code",
      "source": [
        "# TUPLE --> () 소괄호\n",
        "# imutable 수정 불가능\n",
        "# indexing & slicing 가능\n",
        "# 한개의 요소로 tuple을 만들 때 (1,) 쉼표를 괜히 넣는다\n",
        "\n",
        "a = ()\n",
        "b = (1,) # 한개의 요소로 tuple을 만들 때 (1,) 쉼표를 괜히 넣는다\n",
        "c = (1,2,3)\n",
        "d = (1, 2, 'a', 'b')\n",
        "\n",
        "# del d[0]   imutable 튜플은 삭제 불가\n",
        "# d[0] = 9   imutable 수정도 불가\n",
        "# d.append(5) imutable 삽입도 불가\n",
        "\n",
        "print(d[0]) # 인덱싱이 가능\n",
        "print(d[0:2]) # 슬라이싱 가능. 마지막은 미만으로 처리\n",
        "\n",
        "print(len(d)) # 튜플 요소의 개수를 반환하는 함수\n"
      ],
      "metadata": {
        "colab": {
          "base_uri": "https://localhost:8080/"
        },
        "id": "GKtLq6Kp4IYK",
        "outputId": "74072070-94af-4ed1-f625-1d57200587b0"
      },
      "execution_count": 65,
      "outputs": [
        {
          "output_type": "stream",
          "name": "stdout",
          "text": [
            "1\n",
            "(1, 2)\n",
            "4\n"
          ]
        }
      ]
    },
    {
      "cell_type": "code",
      "source": [
        "# DICT --> { } 중괄호\n",
        "# mutable 수정 가능\n",
        "# Key와 Value값으로 되어 있기 때문에 indexing & slicing이 불가\n",
        "# Key값과 Value값 형태로 데이터 저장\n",
        "\n",
        "# 세상의 많은 데이터가 key : value 형태로 표현된다. ex) 이름 : 홍길동, 나이 : 23\n",
        "# 이러한 대응 관계를 파이썬에서 데이터를 저장하는 방식을 딕셔너리라고 한다.\n",
        "# 마치 JS의 JSON과 상당히 유사한 공통점을 가지고 있다.\n",
        "\n",
        "a = {'이름' : '홍길동', '나이' : 20}\n",
        "b = {'이름': '홍길동', '나이' : 20, '보유코인' : ['비트코인', '에이다', '이더리움']}\n",
        "\n",
        "a['키'] = 185 # dict는 mutable한 속성으로 삽입 가능\n",
        "print(a)\n",
        "del a['나이'] # dict는 mutable한 속성으로 삭제도 가능\n",
        "print(a)\n",
        "a['키'] = 190 # dict는 mutable한 속성으로 수정도 가능\n",
        "print(a)\n",
        "\n",
        "# a[0]    # dict는 인덱싱 불가능\n",
        "# a[0:2]    # dict는 슬라이싱 불가능"
      ],
      "metadata": {
        "colab": {
          "base_uri": "https://localhost:8080/"
        },
        "id": "4l89qOAs6Q_3",
        "outputId": "9650b92b-fb0a-4aaf-c80f-1122683f2302"
      },
      "execution_count": 71,
      "outputs": [
        {
          "output_type": "stream",
          "name": "stdout",
          "text": [
            "{'이름': '홍길동', '나이': 20, '키': 185}\n",
            "{'이름': '홍길동', '키': 185}\n",
            "{'이름': '홍길동', '키': 190}\n"
          ]
        }
      ]
    },
    {
      "cell_type": "code",
      "source": [
        "# 딕셔너리에서 많이 사용되는 함수 정리\n",
        "\n",
        "# 딕셔너리에서 키값들만 추출\n",
        "\n",
        "a = {'이름': '홍길동', '나이' : 20, '보유코인' : ['비트코인', '에이다', '이더리움']}\n",
        "print(a.keys())\n",
        "\n",
        "# 딕셔너리에서 밸류값들만 추출\n",
        "print(a.values())\n",
        "\n",
        "# 쌍으로 추출 (튜플 쌍으로 추출)\n",
        "print(a.items())\n",
        "\n",
        "# 키값으로 밸류값 추출1 (인덱싱이 불가능하기 때문에 꺼낼때 많이 사용된다.)\n",
        "print(a['이름'])\n",
        "# print(a['몸무게'])  # 찾는 키값이 없을때 오류 발생\n",
        "\n",
        "# 키값으로 밸류값 추출2\n",
        "print(a.get('이름'))\n",
        "print(a.get('몸무게')) # 찾는 키값이 없을때 None 출력\n",
        "\n",
        "# 키가 딕셔너리안에 있는지 확인\n",
        "'이름' in a   # 찾는 키값이 있을때 true 반환\n",
        "'몸무게' in a # 없을 때는 false\n"
      ],
      "metadata": {
        "colab": {
          "base_uri": "https://localhost:8080/"
        },
        "id": "xyrjqedp8x3e",
        "outputId": "be8faa26-b83c-465a-af3b-6fc3783fcdbc"
      },
      "execution_count": 82,
      "outputs": [
        {
          "output_type": "stream",
          "name": "stdout",
          "text": [
            "dict_keys(['이름', '나이', '보유코인'])\n",
            "dict_values(['홍길동', 20, ['비트코인', '에이다', '이더리움']])\n",
            "dict_items([('이름', '홍길동'), ('나이', 20), ('보유코인', ['비트코인', '에이다', '이더리움'])])\n",
            "홍길동\n",
            "홍길동\n",
            "None\n"
          ]
        },
        {
          "output_type": "execute_result",
          "data": {
            "text/plain": [
              "False"
            ]
          },
          "metadata": {},
          "execution_count": 82
        }
      ]
    },
    {
      "cell_type": "code",
      "source": [
        "# SET --> { } 중괄호\n",
        "# mutable 수정 가능\n",
        "# & indexing & slicing 불가능\n",
        "# unordered 순서가 없다.\n",
        "# 중복데이터를 허용하지 않는다.\n",
        "\n",
        "# a =  {} # 딕셔너리와 셋은 동일할게 { } 사용함. 따라서 빈 값으로 생성할때 주의 !!\n",
        "a = set()\n",
        "b = {1, 2, 3}\n",
        "c = {1, 2, 'a', 'b'}\n",
        "d = {1, 2, 2, 2, 3, 4, 4}\n",
        "print(d)\n",
        "\n",
        "a.add(0)  # mutable 삽입 가능\n",
        "print(a)\n",
        "print(c)\n",
        "c.remove(2)\n",
        "print(c)"
      ],
      "metadata": {
        "colab": {
          "base_uri": "https://localhost:8080/"
        },
        "id": "TMO9bxCI_fYH",
        "outputId": "4915d1bf-b98c-4dc3-d8b3-b0730bcc4bbd"
      },
      "execution_count": 92,
      "outputs": [
        {
          "output_type": "stream",
          "name": "stdout",
          "text": [
            "{1, 2, 3, 4}\n",
            "{0}\n",
            "{1, 2, 'b', 'a'}\n",
            "{1, 'b', 'a'}\n"
          ]
        }
      ]
    },
    {
      "cell_type": "code",
      "source": [
        "# 불 Bool 자료형 boolean\n",
        "\n",
        "# 반드시 대문자로 시작한다.\n",
        "a = True\n",
        "b = False\n",
        "c = \"true\"\n",
        "\n",
        "print(type(a))\n",
        "print(type(c))\n",
        "\n",
        "print(1 == 1)\n",
        "print(1 != 1)"
      ],
      "metadata": {
        "colab": {
          "base_uri": "https://localhost:8080/"
        },
        "id": "KH252swPEkGr",
        "outputId": "7cdb7ff5-d478-4448-aec4-39f3ff707cf6"
      },
      "execution_count": 96,
      "outputs": [
        {
          "output_type": "stream",
          "name": "stdout",
          "text": [
            "<class 'bool'>\n",
            "<class 'str'>\n",
            "True\n",
            "False\n"
          ]
        }
      ]
    },
    {
      "cell_type": "code",
      "source": [
        "# 키보드로 입력 받기\n",
        "a = input()\n",
        "print(a)"
      ],
      "metadata": {
        "colab": {
          "base_uri": "https://localhost:8080/"
        },
        "id": "OXbinFM1FGvq",
        "outputId": "00d71b9b-dc4b-4174-da6f-c6f293fdae89"
      },
      "execution_count": 99,
      "outputs": [
        {
          "output_type": "stream",
          "name": "stdout",
          "text": [
            "20\n",
            "20\n"
          ]
        }
      ]
    },
    {
      "cell_type": "code",
      "source": [
        "a = input(\"지금이 오후인가요?\")\n",
        "print(a)"
      ],
      "metadata": {
        "colab": {
          "base_uri": "https://localhost:8080/"
        },
        "id": "Zp1cJeJ7FU36",
        "outputId": "d67a26e4-4206-4bac-94b9-692435d480bb"
      },
      "execution_count": 101,
      "outputs": [
        {
          "output_type": "stream",
          "name": "stdout",
          "text": [
            "지금이 오후인가요?네\n",
            "네\n"
          ]
        }
      ]
    },
    {
      "cell_type": "code",
      "source": [
        "# 파이썬에서 input은 항상 일단 먼저 모두 문자 취급한다.\n",
        "\n",
        "#a = input(\"지금 몇시에요?\")\n",
        "#print(a+1)\n",
        "\n",
        "a = int(input(\"지금 몇시에요?\"))\n",
        "print(a+1)"
      ],
      "metadata": {
        "colab": {
          "base_uri": "https://localhost:8080/"
        },
        "id": "RXSqSz-JFgiS",
        "outputId": "f372d445-edf6-4ea8-8a7d-6d95cca439c4"
      },
      "execution_count": 105,
      "outputs": [
        {
          "output_type": "stream",
          "name": "stdout",
          "text": [
            "지금 몇시에요?3\n",
            "4\n"
          ]
        }
      ]
    },
    {
      "cell_type": "code",
      "source": [
        "#69\n",
        "country = ('한국', '브라질', '일본', '미국', '아르헨티나')\n",
        "print(country)\n",
        "b = input()\n",
        "print(country.index(b))"
      ],
      "metadata": {
        "colab": {
          "base_uri": "https://localhost:8080/"
        },
        "id": "CngwdXOWGmfC",
        "outputId": "ff097142-a49e-4fe7-e5d2-a3a31baf4aec"
      },
      "execution_count": 111,
      "outputs": [
        {
          "output_type": "stream",
          "name": "stdout",
          "text": [
            "('한국', '브라질', '일본', '미국', '아르헨티나')\n",
            "미국\n",
            "3\n"
          ]
        }
      ]
    },
    {
      "cell_type": "code",
      "source": [
        "#71\n",
        "sports = ['축구', '야구']\n",
        "question = input(\"무슨 스포츠를 가장 좋아하나요?\")\n",
        "\n",
        "sports.append(question)\n",
        "sports.sort()\n",
        "print(sports)"
      ],
      "metadata": {
        "colab": {
          "base_uri": "https://localhost:8080/"
        },
        "id": "fTMTt8wBIo_D",
        "outputId": "89852a21-f4fa-4eb9-d5c5-8f5b2ee80731"
      },
      "execution_count": 116,
      "outputs": [
        {
          "output_type": "stream",
          "name": "stdout",
          "text": [
            "무슨 스포츠를 가장 좋아하나요?피구\n",
            "['야구', '축구', '피구']\n"
          ]
        }
      ]
    },
    {
      "cell_type": "code",
      "source": [
        "#72\n",
        "subjects = ['국어', '영어', '사회', '과학', '스포츠', '음악']\n",
        "a = input(\"싫어하는 과목은?\")\n",
        "subjects.remove(a)\n",
        "print(subjects)"
      ],
      "metadata": {
        "colab": {
          "base_uri": "https://localhost:8080/"
        },
        "id": "c2utM_nEJgtq",
        "outputId": "05462a69-2afe-4276-ae40-31df15da93db"
      },
      "execution_count": 118,
      "outputs": [
        {
          "output_type": "stream",
          "name": "stdout",
          "text": [
            "싫어하는 과목은?사회\n",
            "['국어', '영어', '과학', '스포츠', '음악']\n"
          ]
        }
      ]
    },
    {
      "cell_type": "code",
      "source": [
        "#73\n",
        "dict = {}\n",
        "\n",
        "q1 = input(\"food u like : \")\n",
        "dict[1] = q1\n",
        "\n",
        "q2 = input(\"food u like : \")\n",
        "dict[2] = q2\n",
        "\n",
        "q3 = input(\"food u like : \")\n",
        "dict[3] = q3\n",
        "\n",
        "q4 = input(\"food u like : \")\n",
        "dict[4] = q4\n",
        "\n",
        "print(dict)\n",
        "\n",
        "rem = int(input('몇번 음식을 지우겠습니까?'))\n",
        "del dict[rem]\n",
        "\n",
        "print(dict)"
      ],
      "metadata": {
        "colab": {
          "base_uri": "https://localhost:8080/"
        },
        "id": "O40Ed_hkKafp",
        "outputId": "7b9bc6f6-1041-4993-9d6b-f2acd292d42b"
      },
      "execution_count": 130,
      "outputs": [
        {
          "output_type": "stream",
          "name": "stdout",
          "text": [
            "food u like : ㄱ\n",
            "food u like : ㄴ\n",
            "food u like : ㄷ\n",
            "food u like : ㄹ\n",
            "{1: 'ㄱ', 2: 'ㄴ', 3: 'ㄷ', 4: 'ㄹ'}\n",
            "몇번 음식을 지우겠습니까?2\n",
            "{1: 'ㄱ', 3: 'ㄷ', 4: 'ㄹ'}\n"
          ]
        }
      ]
    },
    {
      "cell_type": "code",
      "source": [
        "#74\n",
        "a = ['빨', '주', \"노\", \"초\", \"파\", \"남\", \"보\", '검', '흰', '그레이' ]\n",
        "q1 = int(input())\n",
        "q2 = int(input())\n",
        "print(a[q1:q2])"
      ],
      "metadata": {
        "colab": {
          "base_uri": "https://localhost:8080/"
        },
        "id": "NNd4hCdnN1lc",
        "outputId": "0727e306-efc7-4872-d9d6-78e8850d18d5"
      },
      "execution_count": 131,
      "outputs": [
        {
          "output_type": "stream",
          "name": "stdout",
          "text": [
            "0\n",
            "5\n",
            "['빨', '주', '노', '초', '파']\n"
          ]
        }
      ]
    }
  ]
}